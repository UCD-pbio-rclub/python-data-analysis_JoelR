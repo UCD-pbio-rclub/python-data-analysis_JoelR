{
 "cells": [
  {
   "cell_type": "markdown",
   "metadata": {},
   "source": [
    "# Ch 09 - Set 2\n",
    "\n",
    "https://github.com/UCD-pbio-rclub/python_problems/wiki/Chapter-9-problem-set-2"
   ]
  },
  {
   "cell_type": "code",
   "execution_count": 3,
   "metadata": {},
   "outputs": [],
   "source": [
    "import matplotlib.pyplot as plt\n",
    "import numpy as np\n",
    "import pandas as pd\n"
   ]
  },
  {
   "cell_type": "markdown",
   "metadata": {},
   "source": [
    "### John"
   ]
  },
  {
   "cell_type": "code",
   "execution_count": 9,
   "metadata": {},
   "outputs": [
    {
     "data": {
      "text/html": [
       "<div>\n",
       "<style scoped>\n",
       "    .dataframe tbody tr th:only-of-type {\n",
       "        vertical-align: middle;\n",
       "    }\n",
       "\n",
       "    .dataframe tbody tr th {\n",
       "        vertical-align: top;\n",
       "    }\n",
       "\n",
       "    .dataframe thead th {\n",
       "        text-align: right;\n",
       "    }\n",
       "</style>\n",
       "<table border=\"1\" class=\"dataframe\">\n",
       "  <thead>\n",
       "    <tr style=\"text-align: right;\">\n",
       "      <th></th>\n",
       "      <th>carat</th>\n",
       "      <th>cut</th>\n",
       "      <th>color</th>\n",
       "      <th>clarity</th>\n",
       "      <th>depth</th>\n",
       "      <th>table</th>\n",
       "      <th>price</th>\n",
       "      <th>x</th>\n",
       "      <th>y</th>\n",
       "      <th>z</th>\n",
       "    </tr>\n",
       "  </thead>\n",
       "  <tbody>\n",
       "    <tr>\n",
       "      <th>0</th>\n",
       "      <td>0.23</td>\n",
       "      <td>Ideal</td>\n",
       "      <td>E</td>\n",
       "      <td>SI2</td>\n",
       "      <td>61.5</td>\n",
       "      <td>55.0</td>\n",
       "      <td>326</td>\n",
       "      <td>3.95</td>\n",
       "      <td>3.98</td>\n",
       "      <td>2.43</td>\n",
       "    </tr>\n",
       "    <tr>\n",
       "      <th>1</th>\n",
       "      <td>0.21</td>\n",
       "      <td>Premium</td>\n",
       "      <td>E</td>\n",
       "      <td>SI1</td>\n",
       "      <td>59.8</td>\n",
       "      <td>61.0</td>\n",
       "      <td>326</td>\n",
       "      <td>3.89</td>\n",
       "      <td>3.84</td>\n",
       "      <td>2.31</td>\n",
       "    </tr>\n",
       "    <tr>\n",
       "      <th>2</th>\n",
       "      <td>0.23</td>\n",
       "      <td>Good</td>\n",
       "      <td>E</td>\n",
       "      <td>VS1</td>\n",
       "      <td>56.9</td>\n",
       "      <td>65.0</td>\n",
       "      <td>327</td>\n",
       "      <td>4.05</td>\n",
       "      <td>4.07</td>\n",
       "      <td>2.31</td>\n",
       "    </tr>\n",
       "    <tr>\n",
       "      <th>3</th>\n",
       "      <td>0.29</td>\n",
       "      <td>Premium</td>\n",
       "      <td>I</td>\n",
       "      <td>VS2</td>\n",
       "      <td>62.4</td>\n",
       "      <td>58.0</td>\n",
       "      <td>334</td>\n",
       "      <td>4.20</td>\n",
       "      <td>4.23</td>\n",
       "      <td>2.63</td>\n",
       "    </tr>\n",
       "    <tr>\n",
       "      <th>4</th>\n",
       "      <td>0.31</td>\n",
       "      <td>Good</td>\n",
       "      <td>J</td>\n",
       "      <td>SI2</td>\n",
       "      <td>63.3</td>\n",
       "      <td>58.0</td>\n",
       "      <td>335</td>\n",
       "      <td>4.34</td>\n",
       "      <td>4.35</td>\n",
       "      <td>2.75</td>\n",
       "    </tr>\n",
       "  </tbody>\n",
       "</table>\n",
       "</div>"
      ],
      "text/plain": [
       "   carat      cut color clarity  depth  table  price     x     y     z\n",
       "0   0.23    Ideal     E     SI2   61.5   55.0    326  3.95  3.98  2.43\n",
       "1   0.21  Premium     E     SI1   59.8   61.0    326  3.89  3.84  2.31\n",
       "2   0.23     Good     E     VS1   56.9   65.0    327  4.05  4.07  2.31\n",
       "3   0.29  Premium     I     VS2   62.4   58.0    334  4.20  4.23  2.63\n",
       "4   0.31     Good     J     SI2   63.3   58.0    335  4.34  4.35  2.75"
      ]
     },
     "execution_count": 9,
     "metadata": {},
     "output_type": "execute_result"
    }
   ],
   "source": [
    "diamonds = pd.read_csv(\"https://raw.githubusercontent.com/UCD-pbio-rclub/python-data-analysis_JohnD/master/datasets/diamonds.csv\")\n",
    "diamonds.head()"
   ]
  },
  {
   "cell_type": "code",
   "execution_count": 80,
   "metadata": {},
   "outputs": [],
   "source": [
    "from collections import Counter\n",
    "carats=np.sort(list(Counter(diamonds[\"carat\"]).keys()))\n"
   ]
  },
  {
   "cell_type": "code",
   "execution_count": 125,
   "metadata": {},
   "outputs": [],
   "source": [
    "## Recreate plots\n",
    "# 1. carat vs price\n",
    "# 2. carat vs price binned"
   ]
  },
  {
   "cell_type": "code",
   "execution_count": null,
   "metadata": {},
   "outputs": [],
   "source": [
    "## There are 27 boxplots in the original image. \n",
    "# Create bins between 0.2 and 2.8 that cut the data into 27 semi-equal bins"
   ]
  },
  {
   "cell_type": "code",
   "execution_count": 119,
   "metadata": {},
   "outputs": [
    {
     "name": "stdout",
     "output_type": "stream",
     "text": [
      "0    0\n",
      "1    0\n",
      "2    0\n",
      "3    0\n",
      "4    1\n",
      "Name: carat, dtype: int64\n",
      "27\n",
      "53900\n"
     ]
    }
   ],
   "source": [
    "carat_bins = pd.cut(diamons[\"carat\"], 27,labels=False)\n",
    "print(carat_bins.head())\n",
    "print(len(Counter(carat_bins).keys()))\n",
    "print(len(carat_bins))"
   ]
  },
  {
   "cell_type": "code",
   "execution_count": 122,
   "metadata": {},
   "outputs": [],
   "source": [
    "## Add bin to the data\n",
    "diamonds[\"bin\"] = carat_bins"
   ]
  },
  {
   "attachments": {
    "image.png": {
     "image/png": "[encoded data removed]"
    }
   },
   "cell_type": "markdown",
   "metadata": {
    "cell_style": "center"
   },
   "source": [
    "![image.png](attachment:image.png)"
   ]
  },
  {
   "cell_type": "code",
   "execution_count": 167,
   "metadata": {},
   "outputs": [
    {
     "data": {
      "text/plain": [
       "<matplotlib.axes._subplots.AxesSubplot at 0x11a3709b0>"
      ]
     },
     "execution_count": 167,
     "metadata": {},
     "output_type": "execute_result"
    },
    {
     "data": {
      "image/png": "[encoded data removed]",
      "text/plain": [
       "<Figure size 432x288 with 1 Axes>"
      ]
     },
     "metadata": {},
     "output_type": "display_data"
    }
   ],
   "source": [
    "## https://matplotlib.org/gallery/statistics/bxp.html\n",
    "diamonds.boxplot(column = 'price', by = \"bin\",\n",
    "                 flierprops = dict(marker='o', markerfacecolor='black', markersize=1,linestyle='none'),\n",
    "                 boxprops = dict(linewidth=3, color=\"black\"))"
   ]
  },
  {
   "cell_type": "markdown",
   "metadata": {},
   "source": [
    "### Min-Yao"
   ]
  },
  {
   "cell_type": "code",
   "execution_count": 169,
   "metadata": {},
   "outputs": [],
   "source": [
    "xprs = pd.read_excel('https://github.com/UCD-pbio-rclub/python-data-analysis_MinYaoJ/raw/master/Expression%20Browser_CPM_practice.xlsx')"
   ]
  },
  {
   "cell_type": "code",
   "execution_count": 173,
   "metadata": {},
   "outputs": [
    {
     "data": {
      "text/html": [
       "<div>\n",
       "<style scoped>\n",
       "    .dataframe tbody tr th:only-of-type {\n",
       "        vertical-align: middle;\n",
       "    }\n",
       "\n",
       "    .dataframe tbody tr th {\n",
       "        vertical-align: top;\n",
       "    }\n",
       "\n",
       "    .dataframe thead th {\n",
       "        text-align: right;\n",
       "    }\n",
       "</style>\n",
       "<table border=\"1\" class=\"dataframe\">\n",
       "  <thead>\n",
       "    <tr style=\"text-align: right;\">\n",
       "      <th></th>\n",
       "      <th>Name</th>\n",
       "      <th>6_c1</th>\n",
       "      <th>6_c2</th>\n",
       "      <th>6_c3</th>\n",
       "      <th>6_c4</th>\n",
       "      <th>6_c5</th>\n",
       "      <th>6_c6</th>\n",
       "      <th>6_c7</th>\n",
       "      <th>6_t1</th>\n",
       "      <th>6_t2</th>\n",
       "      <th>...</th>\n",
       "      <th>3_t5</th>\n",
       "      <th>2_c1</th>\n",
       "      <th>2_c2</th>\n",
       "      <th>2_c3</th>\n",
       "      <th>2_c4</th>\n",
       "      <th>2_c5</th>\n",
       "      <th>2_t1</th>\n",
       "      <th>2_t2</th>\n",
       "      <th>2_t3</th>\n",
       "      <th>2_t4</th>\n",
       "    </tr>\n",
       "  </thead>\n",
       "  <tbody>\n",
       "    <tr>\n",
       "      <th>0</th>\n",
       "      <td>Solyc00g005000.3</td>\n",
       "      <td>0.000000</td>\n",
       "      <td>0.000000</td>\n",
       "      <td>0.000000</td>\n",
       "      <td>0.000000</td>\n",
       "      <td>0.000000</td>\n",
       "      <td>0.000000</td>\n",
       "      <td>0.000000</td>\n",
       "      <td>0.000000</td>\n",
       "      <td>0.00000</td>\n",
       "      <td>...</td>\n",
       "      <td>0.000000</td>\n",
       "      <td>0.000000</td>\n",
       "      <td>0.00000</td>\n",
       "      <td>0.00000</td>\n",
       "      <td>0.000000</td>\n",
       "      <td>0.000000</td>\n",
       "      <td>0.000000</td>\n",
       "      <td>0.000000</td>\n",
       "      <td>0.000000</td>\n",
       "      <td>0.000000</td>\n",
       "    </tr>\n",
       "    <tr>\n",
       "      <th>1</th>\n",
       "      <td>Solyc00g005005.1</td>\n",
       "      <td>0.000000</td>\n",
       "      <td>0.000000</td>\n",
       "      <td>0.000000</td>\n",
       "      <td>0.000000</td>\n",
       "      <td>0.000000</td>\n",
       "      <td>0.000000</td>\n",
       "      <td>0.000000</td>\n",
       "      <td>0.000000</td>\n",
       "      <td>0.00000</td>\n",
       "      <td>...</td>\n",
       "      <td>0.000000</td>\n",
       "      <td>0.000000</td>\n",
       "      <td>0.00000</td>\n",
       "      <td>0.00000</td>\n",
       "      <td>0.000000</td>\n",
       "      <td>0.000000</td>\n",
       "      <td>0.000000</td>\n",
       "      <td>0.000000</td>\n",
       "      <td>0.000000</td>\n",
       "      <td>0.000000</td>\n",
       "    </tr>\n",
       "    <tr>\n",
       "      <th>2</th>\n",
       "      <td>Solyc00g005040.3</td>\n",
       "      <td>0.000000</td>\n",
       "      <td>0.136237</td>\n",
       "      <td>0.000000</td>\n",
       "      <td>0.000000</td>\n",
       "      <td>0.000000</td>\n",
       "      <td>0.000000</td>\n",
       "      <td>0.000000</td>\n",
       "      <td>0.075741</td>\n",
       "      <td>0.30310</td>\n",
       "      <td>...</td>\n",
       "      <td>0.000000</td>\n",
       "      <td>0.000000</td>\n",
       "      <td>0.00000</td>\n",
       "      <td>0.00000</td>\n",
       "      <td>0.000000</td>\n",
       "      <td>0.000000</td>\n",
       "      <td>0.000000</td>\n",
       "      <td>0.000000</td>\n",
       "      <td>0.000000</td>\n",
       "      <td>0.000000</td>\n",
       "    </tr>\n",
       "    <tr>\n",
       "      <th>3</th>\n",
       "      <td>Solyc00g005050.3</td>\n",
       "      <td>49.947944</td>\n",
       "      <td>50.680249</td>\n",
       "      <td>42.857629</td>\n",
       "      <td>46.142383</td>\n",
       "      <td>40.925485</td>\n",
       "      <td>49.050587</td>\n",
       "      <td>49.010294</td>\n",
       "      <td>47.224546</td>\n",
       "      <td>42.28247</td>\n",
       "      <td>...</td>\n",
       "      <td>46.069768</td>\n",
       "      <td>39.626619</td>\n",
       "      <td>33.60176</td>\n",
       "      <td>38.84896</td>\n",
       "      <td>28.487619</td>\n",
       "      <td>42.516459</td>\n",
       "      <td>47.526986</td>\n",
       "      <td>47.021348</td>\n",
       "      <td>51.069134</td>\n",
       "      <td>44.480035</td>\n",
       "    </tr>\n",
       "    <tr>\n",
       "      <th>4</th>\n",
       "      <td>Solyc00g005055.1</td>\n",
       "      <td>0.000000</td>\n",
       "      <td>0.000000</td>\n",
       "      <td>0.000000</td>\n",
       "      <td>0.000000</td>\n",
       "      <td>0.000000</td>\n",
       "      <td>0.000000</td>\n",
       "      <td>0.000000</td>\n",
       "      <td>0.000000</td>\n",
       "      <td>0.00000</td>\n",
       "      <td>...</td>\n",
       "      <td>0.000000</td>\n",
       "      <td>0.000000</td>\n",
       "      <td>0.00000</td>\n",
       "      <td>0.00000</td>\n",
       "      <td>0.000000</td>\n",
       "      <td>0.000000</td>\n",
       "      <td>0.000000</td>\n",
       "      <td>0.000000</td>\n",
       "      <td>0.000000</td>\n",
       "      <td>0.000000</td>\n",
       "    </tr>\n",
       "  </tbody>\n",
       "</table>\n",
       "<p>5 rows × 46 columns</p>\n",
       "</div>"
      ],
      "text/plain": [
       "               Name      6_c1       6_c2       6_c3       6_c4       6_c5   \\\n",
       "0  Solyc00g005000.3   0.000000   0.000000   0.000000   0.000000   0.000000   \n",
       "1  Solyc00g005005.1   0.000000   0.000000   0.000000   0.000000   0.000000   \n",
       "2  Solyc00g005040.3   0.000000   0.136237   0.000000   0.000000   0.000000   \n",
       "3  Solyc00g005050.3  49.947944  50.680249  42.857629  46.142383  40.925485   \n",
       "4  Solyc00g005055.1   0.000000   0.000000   0.000000   0.000000   0.000000   \n",
       "\n",
       "       6_c6       6_c7       6_t1      6_t2     ...          3_t5       2_c1   \\\n",
       "0   0.000000   0.000000   0.000000   0.00000    ...       0.000000   0.000000   \n",
       "1   0.000000   0.000000   0.000000   0.00000    ...       0.000000   0.000000   \n",
       "2   0.000000   0.000000   0.075741   0.30310    ...       0.000000   0.000000   \n",
       "3  49.050587  49.010294  47.224546  42.28247    ...      46.069768  39.626619   \n",
       "4   0.000000   0.000000   0.000000   0.00000    ...       0.000000   0.000000   \n",
       "\n",
       "      2_c2      2_c3       2_c4       2_c5       2_t1       2_t2       2_t3   \\\n",
       "0   0.00000   0.00000   0.000000   0.000000   0.000000   0.000000   0.000000   \n",
       "1   0.00000   0.00000   0.000000   0.000000   0.000000   0.000000   0.000000   \n",
       "2   0.00000   0.00000   0.000000   0.000000   0.000000   0.000000   0.000000   \n",
       "3  33.60176  38.84896  28.487619  42.516459  47.526986  47.021348  51.069134   \n",
       "4   0.00000   0.00000   0.000000   0.000000   0.000000   0.000000   0.000000   \n",
       "\n",
       "       2_t4   \n",
       "0   0.000000  \n",
       "1   0.000000  \n",
       "2   0.000000  \n",
       "3  44.480035  \n",
       "4   0.000000  \n",
       "\n",
       "[5 rows x 46 columns]"
      ]
     },
     "execution_count": 173,
     "metadata": {},
     "output_type": "execute_result"
    }
   ],
   "source": [
    "## Select the first 5 genes \n",
    "df = xprs.head(5)\n",
    "df"
   ]
  },
  {
   "cell_type": "code",
   "execution_count": 206,
   "metadata": {},
   "outputs": [],
   "source": [
    "import re"
   ]
  },
  {
   "cell_type": "code",
   "execution_count": 219,
   "metadata": {},
   "outputs": [
    {
     "data": {
      "text/plain": [
       "Counter({'6_c': 7,\n",
       "         '6_t': 7,\n",
       "         '5_c': 5,\n",
       "         '5_t': 7,\n",
       "         '3_c': 5,\n",
       "         '3_t': 5,\n",
       "         '2_c': 5,\n",
       "         '2_t': 4})"
      ]
     },
     "execution_count": 219,
     "metadata": {},
     "output_type": "execute_result"
    }
   ],
   "source": [
    "## Create metadata with sample names\n",
    "# use regexes to remove the replicate number\n",
    "sampleGroups = [re.sub(pattern=\"..$\",repl=\"\",string=each) for each in df.columns[1:].tolist()]\n",
    "Counter(sampleGroups)"
   ]
  },
  {
   "cell_type": "code",
   "execution_count": 268,
   "metadata": {},
   "outputs": [
    {
     "data": {
      "text/html": [
       "<div>\n",
       "<style scoped>\n",
       "    .dataframe tbody tr th:only-of-type {\n",
       "        vertical-align: middle;\n",
       "    }\n",
       "\n",
       "    .dataframe tbody tr th {\n",
       "        vertical-align: top;\n",
       "    }\n",
       "\n",
       "    .dataframe thead th {\n",
       "        text-align: right;\n",
       "    }\n",
       "</style>\n",
       "<table border=\"1\" class=\"dataframe\">\n",
       "  <thead>\n",
       "    <tr style=\"text-align: right;\">\n",
       "      <th></th>\n",
       "      <th>3</th>\n",
       "      <th>groups</th>\n",
       "    </tr>\n",
       "  </thead>\n",
       "  <tbody>\n",
       "    <tr>\n",
       "      <th>6_c1</th>\n",
       "      <td>49.9479</td>\n",
       "      <td>6_c</td>\n",
       "    </tr>\n",
       "    <tr>\n",
       "      <th>6_c2</th>\n",
       "      <td>50.6802</td>\n",
       "      <td>6_c</td>\n",
       "    </tr>\n",
       "    <tr>\n",
       "      <th>6_c3</th>\n",
       "      <td>42.8576</td>\n",
       "      <td>6_c</td>\n",
       "    </tr>\n",
       "    <tr>\n",
       "      <th>6_c4</th>\n",
       "      <td>46.1424</td>\n",
       "      <td>6_c</td>\n",
       "    </tr>\n",
       "    <tr>\n",
       "      <th>6_c5</th>\n",
       "      <td>40.9255</td>\n",
       "      <td>6_c</td>\n",
       "    </tr>\n",
       "  </tbody>\n",
       "</table>\n",
       "</div>"
      ],
      "text/plain": [
       "             3 groups\n",
       "6_c1   49.9479    6_c\n",
       "6_c2   50.6802    6_c\n",
       "6_c3   42.8576    6_c\n",
       "6_c4   46.1424    6_c\n",
       "6_c5   40.9255    6_c"
      ]
     },
     "execution_count": 268,
     "metadata": {},
     "output_type": "execute_result"
    }
   ],
   "source": [
    "tmpXprs = df[df.Name == \"Solyc00g005050.3\"].T[1:]\n",
    "tmpXprs[\"groups\"] = sampleGroups\n",
    "tmpXprs.head(5)\n"
   ]
  },
  {
   "cell_type": "code",
   "execution_count": 273,
   "metadata": {},
   "outputs": [
    {
     "data": {
      "text/html": [
       "<div>\n",
       "<style scoped>\n",
       "    .dataframe tbody tr th:only-of-type {\n",
       "        vertical-align: middle;\n",
       "    }\n",
       "\n",
       "    .dataframe tbody tr th {\n",
       "        vertical-align: top;\n",
       "    }\n",
       "\n",
       "    .dataframe thead th {\n",
       "        text-align: right;\n",
       "    }\n",
       "</style>\n",
       "<table border=\"1\" class=\"dataframe\">\n",
       "  <thead>\n",
       "    <tr style=\"text-align: right;\">\n",
       "      <th></th>\n",
       "      <th>Solyc00g005050</th>\n",
       "      <th>groups</th>\n",
       "    </tr>\n",
       "  </thead>\n",
       "  <tbody>\n",
       "    <tr>\n",
       "      <th>6_c1</th>\n",
       "      <td>49.9479</td>\n",
       "      <td>6_c</td>\n",
       "    </tr>\n",
       "    <tr>\n",
       "      <th>6_c2</th>\n",
       "      <td>50.6802</td>\n",
       "      <td>6_c</td>\n",
       "    </tr>\n",
       "    <tr>\n",
       "      <th>6_c3</th>\n",
       "      <td>42.8576</td>\n",
       "      <td>6_c</td>\n",
       "    </tr>\n",
       "    <tr>\n",
       "      <th>6_c4</th>\n",
       "      <td>46.1424</td>\n",
       "      <td>6_c</td>\n",
       "    </tr>\n",
       "    <tr>\n",
       "      <th>6_c5</th>\n",
       "      <td>40.9255</td>\n",
       "      <td>6_c</td>\n",
       "    </tr>\n",
       "  </tbody>\n",
       "</table>\n",
       "</div>"
      ],
      "text/plain": [
       "      Solyc00g005050 groups\n",
       "6_c1         49.9479    6_c\n",
       "6_c2         50.6802    6_c\n",
       "6_c3         42.8576    6_c\n",
       "6_c4         46.1424    6_c\n",
       "6_c5         40.9255    6_c"
      ]
     },
     "execution_count": 273,
     "metadata": {},
     "output_type": "execute_result"
    }
   ],
   "source": [
    "tmpXprs.columns = ['Solyc00g005050', 'groups']\n",
    "tmpXprs.head()"
   ]
  },
  {
   "cell_type": "code",
   "execution_count": 281,
   "metadata": {},
   "outputs": [
    {
     "data": {
      "text/plain": [
       "Text(0.5, 0.98, '')"
      ]
     },
     "execution_count": 281,
     "metadata": {},
     "output_type": "execute_result"
    },
    {
     "data": {
      "image/png": "[encoded data removed]",
      "text/plain": [
       "<Figure size 432x288 with 1 Axes>"
      ]
     },
     "metadata": {},
     "output_type": "display_data"
    }
   ],
   "source": [
    "tmpXprs.boxplot(by=\"groups\",column=\"Solyc00g005050\")\n",
    "plt.ylabel(\"Expression\")\n",
    "plt.suptitle(\"\")"
   ]
  },
  {
   "cell_type": "markdown",
   "metadata": {},
   "source": [
    "### Julin"
   ]
  },
  {
   "cell_type": "markdown",
   "metadata": {},
   "source": [
    "1. Make a boxplot of hypocotyl length (\"hyp\") with the data plotted separately for 'species' and 'trt'. Try making this plot both with and without using facets.\n",
    "\n",
    "2. Make a plot of the internode data, int1, int2, int3, and int4 where each internode is in a different facet. plot values for each trt and species. Layout the plot so that it is a 2X2 grid\n",
    "\n"
   ]
  },
  {
   "cell_type": "code",
   "execution_count": 285,
   "metadata": {},
   "outputs": [
    {
     "data": {
      "text/html": [
       "<div>\n",
       "<style scoped>\n",
       "    .dataframe tbody tr th:only-of-type {\n",
       "        vertical-align: middle;\n",
       "    }\n",
       "\n",
       "    .dataframe tbody tr th {\n",
       "        vertical-align: top;\n",
       "    }\n",
       "\n",
       "    .dataframe thead th {\n",
       "        text-align: right;\n",
       "    }\n",
       "</style>\n",
       "<table border=\"1\" class=\"dataframe\">\n",
       "  <thead>\n",
       "    <tr style=\"text-align: right;\">\n",
       "      <th></th>\n",
       "      <th>shelf</th>\n",
       "      <th>flat</th>\n",
       "      <th>col</th>\n",
       "      <th>row</th>\n",
       "      <th>acs</th>\n",
       "      <th>trt</th>\n",
       "      <th>days</th>\n",
       "      <th>date</th>\n",
       "      <th>hyp</th>\n",
       "      <th>int1</th>\n",
       "      <th>...</th>\n",
       "      <th>petleng</th>\n",
       "      <th>leafleng</th>\n",
       "      <th>leafwid</th>\n",
       "      <th>leafnum</th>\n",
       "      <th>ndvi</th>\n",
       "      <th>lat</th>\n",
       "      <th>lon</th>\n",
       "      <th>alt</th>\n",
       "      <th>species</th>\n",
       "      <th>who</th>\n",
       "    </tr>\n",
       "  </thead>\n",
       "  <tbody>\n",
       "    <tr>\n",
       "      <th>0</th>\n",
       "      <td>Z</td>\n",
       "      <td>1</td>\n",
       "      <td>B</td>\n",
       "      <td>1</td>\n",
       "      <td>LA2580</td>\n",
       "      <td>H</td>\n",
       "      <td>28</td>\n",
       "      <td>5/5/08</td>\n",
       "      <td>19.46</td>\n",
       "      <td>2.37</td>\n",
       "      <td>...</td>\n",
       "      <td>15.78</td>\n",
       "      <td>30.53</td>\n",
       "      <td>34.44</td>\n",
       "      <td>5.0</td>\n",
       "      <td>111</td>\n",
       "      <td>-9.5167</td>\n",
       "      <td>-78.0083</td>\n",
       "      <td>740</td>\n",
       "      <td>S. pennellii</td>\n",
       "      <td>Dan</td>\n",
       "    </tr>\n",
       "    <tr>\n",
       "      <th>1</th>\n",
       "      <td>Z</td>\n",
       "      <td>1</td>\n",
       "      <td>C</td>\n",
       "      <td>1</td>\n",
       "      <td>LA1305</td>\n",
       "      <td>H</td>\n",
       "      <td>28</td>\n",
       "      <td>5/5/08</td>\n",
       "      <td>31.28</td>\n",
       "      <td>3.34</td>\n",
       "      <td>...</td>\n",
       "      <td>12.36</td>\n",
       "      <td>22.93</td>\n",
       "      <td>13.99</td>\n",
       "      <td>4.0</td>\n",
       "      <td>120</td>\n",
       "      <td>-13.3833</td>\n",
       "      <td>-75.3583</td>\n",
       "      <td>3360</td>\n",
       "      <td>S. peruvianum</td>\n",
       "      <td>Dan</td>\n",
       "    </tr>\n",
       "    <tr>\n",
       "      <th>2</th>\n",
       "      <td>Z</td>\n",
       "      <td>1</td>\n",
       "      <td>D</td>\n",
       "      <td>1</td>\n",
       "      <td>LA1973</td>\n",
       "      <td>H</td>\n",
       "      <td>28</td>\n",
       "      <td>5/5/08</td>\n",
       "      <td>56.65</td>\n",
       "      <td>8.43</td>\n",
       "      <td>...</td>\n",
       "      <td>13.05</td>\n",
       "      <td>46.71</td>\n",
       "      <td>43.78</td>\n",
       "      <td>5.0</td>\n",
       "      <td>110</td>\n",
       "      <td>-16.2333</td>\n",
       "      <td>-71.7000</td>\n",
       "      <td>2585</td>\n",
       "      <td>S. peruvianum</td>\n",
       "      <td>Dan</td>\n",
       "    </tr>\n",
       "    <tr>\n",
       "      <th>3</th>\n",
       "      <td>Z</td>\n",
       "      <td>1</td>\n",
       "      <td>E</td>\n",
       "      <td>1</td>\n",
       "      <td>LA2748</td>\n",
       "      <td>H</td>\n",
       "      <td>28</td>\n",
       "      <td>5/5/08</td>\n",
       "      <td>35.18</td>\n",
       "      <td>0.56</td>\n",
       "      <td>...</td>\n",
       "      <td>8.08</td>\n",
       "      <td>26.82</td>\n",
       "      <td>33.28</td>\n",
       "      <td>5.0</td>\n",
       "      <td>105</td>\n",
       "      <td>-20.4833</td>\n",
       "      <td>-69.9833</td>\n",
       "      <td>1020</td>\n",
       "      <td>S. chilense</td>\n",
       "      <td>Dan</td>\n",
       "    </tr>\n",
       "    <tr>\n",
       "      <th>4</th>\n",
       "      <td>Z</td>\n",
       "      <td>1</td>\n",
       "      <td>F</td>\n",
       "      <td>1</td>\n",
       "      <td>LA2931</td>\n",
       "      <td>H</td>\n",
       "      <td>28</td>\n",
       "      <td>5/5/08</td>\n",
       "      <td>35.32</td>\n",
       "      <td>0.82</td>\n",
       "      <td>...</td>\n",
       "      <td>7.68</td>\n",
       "      <td>22.40</td>\n",
       "      <td>23.61</td>\n",
       "      <td>5.0</td>\n",
       "      <td>106</td>\n",
       "      <td>-20.9167</td>\n",
       "      <td>-69.0667</td>\n",
       "      <td>2460</td>\n",
       "      <td>S. chilense</td>\n",
       "      <td>Dan</td>\n",
       "    </tr>\n",
       "  </tbody>\n",
       "</table>\n",
       "<p>5 rows × 25 columns</p>\n",
       "</div>"
      ],
      "text/plain": [
       "  shelf  flat col  row     acs trt  days    date    hyp  int1 ...   petleng  \\\n",
       "0     Z     1   B    1  LA2580   H    28  5/5/08  19.46  2.37 ...     15.78   \n",
       "1     Z     1   C    1  LA1305   H    28  5/5/08  31.28  3.34 ...     12.36   \n",
       "2     Z     1   D    1  LA1973   H    28  5/5/08  56.65  8.43 ...     13.05   \n",
       "3     Z     1   E    1  LA2748   H    28  5/5/08  35.18  0.56 ...      8.08   \n",
       "4     Z     1   F    1  LA2931   H    28  5/5/08  35.32  0.82 ...      7.68   \n",
       "\n",
       "   leafleng  leafwid  leafnum  ndvi      lat      lon   alt        species  \\\n",
       "0     30.53    34.44      5.0   111  -9.5167 -78.0083   740   S. pennellii   \n",
       "1     22.93    13.99      4.0   120 -13.3833 -75.3583  3360  S. peruvianum   \n",
       "2     46.71    43.78      5.0   110 -16.2333 -71.7000  2585  S. peruvianum   \n",
       "3     26.82    33.28      5.0   105 -20.4833 -69.9833  1020    S. chilense   \n",
       "4     22.40    23.61      5.0   106 -20.9167 -69.0667  2460    S. chilense   \n",
       "\n",
       "   who  \n",
       "0  Dan  \n",
       "1  Dan  \n",
       "2  Dan  \n",
       "3  Dan  \n",
       "4  Dan  \n",
       "\n",
       "[5 rows x 25 columns]"
      ]
     },
     "execution_count": 285,
     "metadata": {},
     "output_type": "execute_result"
    }
   ],
   "source": [
    "tomato = pd.read_csv(\"https://raw.githubusercontent.com/UCD-pbio-rclub/python_problems/master/Tomato.csv\")\n",
    "tomato.head()"
   ]
  },
  {
   "cell_type": "code",
   "execution_count": 323,
   "metadata": {},
   "outputs": [
    {
     "data": {
      "text/plain": [
       "Counter({'H_Spen': 60,\n",
       "         'H_Speru': 105,\n",
       "         'H_Sch': 102,\n",
       "         'H_Schmiel': 109,\n",
       "         'H_Shabroc': 119,\n",
       "         'L_Spen': 72,\n",
       "         'L_Speru': 112,\n",
       "         'L_Sch': 105,\n",
       "         'L_Schmiel': 117,\n",
       "         'L_Shabroc': 107})"
      ]
     },
     "execution_count": 323,
     "metadata": {},
     "output_type": "execute_result"
    }
   ],
   "source": [
    "groups = tomato[\"trt\"] + \"_\" + tomato[\"species\"]\n",
    "groups = [re.sub(\". |......$\",\"\",each) for each in groups]\n",
    "Counter(groups)"
   ]
  },
  {
   "cell_type": "code",
   "execution_count": 334,
   "metadata": {},
   "outputs": [
    {
     "name": "stderr",
     "output_type": "stream",
     "text": [
      "/usr/local/Cellar/jupyter/1.0.0_4/libexec/lib/python3.6/site-packages/ipykernel_launcher.py:2: SettingWithCopyWarning: \n",
      "A value is trying to be set on a copy of a slice from a DataFrame.\n",
      "Try using .loc[row_indexer,col_indexer] = value instead\n",
      "\n",
      "See the caveats in the documentation: http://pandas.pydata.org/pandas-docs/stable/indexing.html#indexing-view-versus-copy\n",
      "  \n"
     ]
    },
    {
     "data": {
      "text/html": [
       "<div>\n",
       "<style scoped>\n",
       "    .dataframe tbody tr th:only-of-type {\n",
       "        vertical-align: middle;\n",
       "    }\n",
       "\n",
       "    .dataframe tbody tr th {\n",
       "        vertical-align: top;\n",
       "    }\n",
       "\n",
       "    .dataframe thead th {\n",
       "        text-align: right;\n",
       "    }\n",
       "</style>\n",
       "<table border=\"1\" class=\"dataframe\">\n",
       "  <thead>\n",
       "    <tr style=\"text-align: right;\">\n",
       "      <th></th>\n",
       "      <th>hyp</th>\n",
       "      <th>groups</th>\n",
       "    </tr>\n",
       "  </thead>\n",
       "  <tbody>\n",
       "    <tr>\n",
       "      <th>0</th>\n",
       "      <td>19.46</td>\n",
       "      <td>H_Spen</td>\n",
       "    </tr>\n",
       "    <tr>\n",
       "      <th>1</th>\n",
       "      <td>31.28</td>\n",
       "      <td>H_Speru</td>\n",
       "    </tr>\n",
       "    <tr>\n",
       "      <th>2</th>\n",
       "      <td>56.65</td>\n",
       "      <td>H_Speru</td>\n",
       "    </tr>\n",
       "    <tr>\n",
       "      <th>3</th>\n",
       "      <td>35.18</td>\n",
       "      <td>H_Sch</td>\n",
       "    </tr>\n",
       "    <tr>\n",
       "      <th>4</th>\n",
       "      <td>35.32</td>\n",
       "      <td>H_Sch</td>\n",
       "    </tr>\n",
       "  </tbody>\n",
       "</table>\n",
       "</div>"
      ],
      "text/plain": [
       "     hyp   groups\n",
       "0  19.46   H_Spen\n",
       "1  31.28  H_Speru\n",
       "2  56.65  H_Speru\n",
       "3  35.18    H_Sch\n",
       "4  35.32    H_Sch"
      ]
     },
     "execution_count": 334,
     "metadata": {},
     "output_type": "execute_result"
    }
   ],
   "source": [
    "df=tomato[[\"hyp\"]]\n",
    "df[\"groups\"]=groups\n",
    "df.head()"
   ]
  },
  {
   "cell_type": "code",
   "execution_count": 337,
   "metadata": {},
   "outputs": [
    {
     "data": {
      "text/plain": [
       "(array([ 1,  2,  3,  4,  5,  6,  7,  8,  9, 10]),\n",
       " <a list of 10 Text xticklabel objects>)"
      ]
     },
     "execution_count": 337,
     "metadata": {},
     "output_type": "execute_result"
    },
    {
     "data": {
      "image/png": "[encoded data removed]",
      "text/plain": [
       "<Figure size 432x288 with 1 Axes>"
      ]
     },
     "metadata": {},
     "output_type": "display_data"
    }
   ],
   "source": [
    "df.boxplot(by=\"groups\",column=\"hyp\")\n",
    "plt.ylabel(\"Hypocotil length\")\n",
    "plt.suptitle(\"\")\n",
    "plt.xticks(rotation=45)"
   ]
  },
  {
   "cell_type": "markdown",
   "metadata": {},
   "source": [
    "### Kae\n",
    "\n",
    "Using the data here please make a bar graph showing the number of men and the number of women (a bar for each) that survived the trip on the titanic at each age point."
   ]
  },
  {
   "cell_type": "code",
   "execution_count": 338,
   "metadata": {},
   "outputs": [
    {
     "data": {
      "text/html": [
       "<div>\n",
       "<style scoped>\n",
       "    .dataframe tbody tr th:only-of-type {\n",
       "        vertical-align: middle;\n",
       "    }\n",
       "\n",
       "    .dataframe tbody tr th {\n",
       "        vertical-align: top;\n",
       "    }\n",
       "\n",
       "    .dataframe thead th {\n",
       "        text-align: right;\n",
       "    }\n",
       "</style>\n",
       "<table border=\"1\" class=\"dataframe\">\n",
       "  <thead>\n",
       "    <tr style=\"text-align: right;\">\n",
       "      <th></th>\n",
       "      <th>PassengerId</th>\n",
       "      <th>Survived</th>\n",
       "      <th>Pclass</th>\n",
       "      <th>Name</th>\n",
       "      <th>Sex</th>\n",
       "      <th>Age</th>\n",
       "      <th>SibSp</th>\n",
       "      <th>Parch</th>\n",
       "      <th>Ticket</th>\n",
       "      <th>Fare</th>\n",
       "      <th>Cabin</th>\n",
       "      <th>Embarked</th>\n",
       "    </tr>\n",
       "  </thead>\n",
       "  <tbody>\n",
       "    <tr>\n",
       "      <th>0</th>\n",
       "      <td>1</td>\n",
       "      <td>0</td>\n",
       "      <td>3</td>\n",
       "      <td>Braund, Mr. Owen Harris</td>\n",
       "      <td>male</td>\n",
       "      <td>22.0</td>\n",
       "      <td>1</td>\n",
       "      <td>0</td>\n",
       "      <td>A/5 21171</td>\n",
       "      <td>7.2500</td>\n",
       "      <td>NaN</td>\n",
       "      <td>S</td>\n",
       "    </tr>\n",
       "    <tr>\n",
       "      <th>1</th>\n",
       "      <td>2</td>\n",
       "      <td>1</td>\n",
       "      <td>1</td>\n",
       "      <td>Cumings, Mrs. John Bradley (Florence Briggs Th...</td>\n",
       "      <td>female</td>\n",
       "      <td>38.0</td>\n",
       "      <td>1</td>\n",
       "      <td>0</td>\n",
       "      <td>PC 17599</td>\n",
       "      <td>71.2833</td>\n",
       "      <td>C85</td>\n",
       "      <td>C</td>\n",
       "    </tr>\n",
       "    <tr>\n",
       "      <th>2</th>\n",
       "      <td>3</td>\n",
       "      <td>1</td>\n",
       "      <td>3</td>\n",
       "      <td>Heikkinen, Miss. Laina</td>\n",
       "      <td>female</td>\n",
       "      <td>26.0</td>\n",
       "      <td>0</td>\n",
       "      <td>0</td>\n",
       "      <td>STON/O2. 3101282</td>\n",
       "      <td>7.9250</td>\n",
       "      <td>NaN</td>\n",
       "      <td>S</td>\n",
       "    </tr>\n",
       "    <tr>\n",
       "      <th>3</th>\n",
       "      <td>4</td>\n",
       "      <td>1</td>\n",
       "      <td>1</td>\n",
       "      <td>Futrelle, Mrs. Jacques Heath (Lily May Peel)</td>\n",
       "      <td>female</td>\n",
       "      <td>35.0</td>\n",
       "      <td>1</td>\n",
       "      <td>0</td>\n",
       "      <td>113803</td>\n",
       "      <td>53.1000</td>\n",
       "      <td>C123</td>\n",
       "      <td>S</td>\n",
       "    </tr>\n",
       "    <tr>\n",
       "      <th>4</th>\n",
       "      <td>5</td>\n",
       "      <td>0</td>\n",
       "      <td>3</td>\n",
       "      <td>Allen, Mr. William Henry</td>\n",
       "      <td>male</td>\n",
       "      <td>35.0</td>\n",
       "      <td>0</td>\n",
       "      <td>0</td>\n",
       "      <td>373450</td>\n",
       "      <td>8.0500</td>\n",
       "      <td>NaN</td>\n",
       "      <td>S</td>\n",
       "    </tr>\n",
       "  </tbody>\n",
       "</table>\n",
       "</div>"
      ],
      "text/plain": [
       "   PassengerId  Survived  Pclass  \\\n",
       "0            1         0       3   \n",
       "1            2         1       1   \n",
       "2            3         1       3   \n",
       "3            4         1       1   \n",
       "4            5         0       3   \n",
       "\n",
       "                                                Name     Sex   Age  SibSp  \\\n",
       "0                            Braund, Mr. Owen Harris    male  22.0      1   \n",
       "1  Cumings, Mrs. John Bradley (Florence Briggs Th...  female  38.0      1   \n",
       "2                             Heikkinen, Miss. Laina  female  26.0      0   \n",
       "3       Futrelle, Mrs. Jacques Heath (Lily May Peel)  female  35.0      1   \n",
       "4                           Allen, Mr. William Henry    male  35.0      0   \n",
       "\n",
       "   Parch            Ticket     Fare Cabin Embarked  \n",
       "0      0         A/5 21171   7.2500   NaN        S  \n",
       "1      0          PC 17599  71.2833   C85        C  \n",
       "2      0  STON/O2. 3101282   7.9250   NaN        S  \n",
       "3      0            113803  53.1000  C123        S  \n",
       "4      0            373450   8.0500   NaN        S  "
      ]
     },
     "execution_count": 338,
     "metadata": {},
     "output_type": "execute_result"
    }
   ],
   "source": [
    "titanic = pd.read_csv(\"https://raw.githubusercontent.com/UCD-pbio-rclub/python-data-analysis_KaeL/master/titanic.csv\")\n",
    "titanic.head()"
   ]
  },
  {
   "cell_type": "code",
   "execution_count": 390,
   "metadata": {},
   "outputs": [],
   "source": [
    "survivors_byAge_M = Counter(titanic[ (~np.isnan(titanic.Age)) & (titanic.Survived == 1) & (titanic.Sex == \"male\") ] [\"Age\"] )\n",
    "survivors_byAge_F = Counter(titanic[ (~np.isnan(titanic.Age)) & (titanic.Survived == 1) & (titanic.Sex == \"female\") ] [\"Age\"] )"
   ]
  },
  {
   "cell_type": "code",
   "execution_count": 381,
   "metadata": {},
   "outputs": [],
   "source": [
    "df_M=pd.DataFrame.from_dict(survivors_byAge_M, orient='index').reset_index()\n",
    "df_F=pd.DataFrame.from_dict(survivors_byAge_F, orient='index').reset_index()"
   ]
  },
  {
   "cell_type": "code",
   "execution_count": 393,
   "metadata": {},
   "outputs": [],
   "source": [
    "df_M = df_M.rename(columns={'index':'Age', 0:'Survivors'})\n",
    "df_F = df_F.rename(columns={'index':'Age', 0:'Survivors'})\n",
    "##\n",
    "df_F=df_F.sort_values(\"Age\")\n",
    "df_M=df_M.sort_values(\"Age\")"
   ]
  },
  {
   "cell_type": "code",
   "execution_count": 397,
   "metadata": {
    "cell_style": "split"
   },
   "outputs": [
    {
     "data": {
      "text/html": [
       "<div>\n",
       "<style scoped>\n",
       "    .dataframe tbody tr th:only-of-type {\n",
       "        vertical-align: middle;\n",
       "    }\n",
       "\n",
       "    .dataframe tbody tr th {\n",
       "        vertical-align: top;\n",
       "    }\n",
       "\n",
       "    .dataframe thead th {\n",
       "        text-align: right;\n",
       "    }\n",
       "</style>\n",
       "<table border=\"1\" class=\"dataframe\">\n",
       "  <thead>\n",
       "    <tr style=\"text-align: right;\">\n",
       "      <th></th>\n",
       "      <th>Age</th>\n",
       "      <th>Survivors</th>\n",
       "    </tr>\n",
       "  </thead>\n",
       "  <tbody>\n",
       "    <tr>\n",
       "      <th>47</th>\n",
       "      <td>0.42</td>\n",
       "      <td>1</td>\n",
       "    </tr>\n",
       "    <tr>\n",
       "      <th>45</th>\n",
       "      <td>0.67</td>\n",
       "      <td>1</td>\n",
       "    </tr>\n",
       "    <tr>\n",
       "      <th>3</th>\n",
       "      <td>0.83</td>\n",
       "      <td>2</td>\n",
       "    </tr>\n",
       "    <tr>\n",
       "      <th>23</th>\n",
       "      <td>0.92</td>\n",
       "      <td>1</td>\n",
       "    </tr>\n",
       "    <tr>\n",
       "      <th>10</th>\n",
       "      <td>1.00</td>\n",
       "      <td>3</td>\n",
       "    </tr>\n",
       "  </tbody>\n",
       "</table>\n",
       "</div>"
      ],
      "text/plain": [
       "     Age  Survivors\n",
       "47  0.42          1\n",
       "45  0.67          1\n",
       "3   0.83          2\n",
       "23  0.92          1\n",
       "10  1.00          3"
      ]
     },
     "execution_count": 397,
     "metadata": {},
     "output_type": "execute_result"
    }
   ],
   "source": [
    "df_M.head()"
   ]
  },
  {
   "cell_type": "code",
   "execution_count": 396,
   "metadata": {
    "cell_style": "split"
   },
   "outputs": [
    {
     "data": {
      "text/html": [
       "<div>\n",
       "<style scoped>\n",
       "    .dataframe tbody tr th:only-of-type {\n",
       "        vertical-align: middle;\n",
       "    }\n",
       "\n",
       "    .dataframe tbody tr th {\n",
       "        vertical-align: top;\n",
       "    }\n",
       "\n",
       "    .dataframe thead th {\n",
       "        text-align: right;\n",
       "    }\n",
       "</style>\n",
       "<table border=\"1\" class=\"dataframe\">\n",
       "  <thead>\n",
       "    <tr style=\"text-align: right;\">\n",
       "      <th></th>\n",
       "      <th>Age</th>\n",
       "      <th>Survivors</th>\n",
       "    </tr>\n",
       "  </thead>\n",
       "  <tbody>\n",
       "    <tr>\n",
       "      <th>40</th>\n",
       "      <td>0.75</td>\n",
       "      <td>2</td>\n",
       "    </tr>\n",
       "    <tr>\n",
       "      <th>25</th>\n",
       "      <td>1.00</td>\n",
       "      <td>2</td>\n",
       "    </tr>\n",
       "    <tr>\n",
       "      <th>41</th>\n",
       "      <td>2.00</td>\n",
       "      <td>2</td>\n",
       "    </tr>\n",
       "    <tr>\n",
       "      <th>9</th>\n",
       "      <td>3.00</td>\n",
       "      <td>1</td>\n",
       "    </tr>\n",
       "    <tr>\n",
       "      <th>5</th>\n",
       "      <td>4.00</td>\n",
       "      <td>5</td>\n",
       "    </tr>\n",
       "  </tbody>\n",
       "</table>\n",
       "</div>"
      ],
      "text/plain": [
       "     Age  Survivors\n",
       "40  0.75          2\n",
       "25  1.00          2\n",
       "41  2.00          2\n",
       "9   3.00          1\n",
       "5   4.00          5"
      ]
     },
     "execution_count": 396,
     "metadata": {},
     "output_type": "execute_result"
    }
   ],
   "source": [
    "df_F.head()"
   ]
  },
  {
   "cell_type": "code",
   "execution_count": 399,
   "metadata": {},
   "outputs": [
    {
     "data": {
      "text/plain": [
       "<matplotlib.axes._subplots.AxesSubplot at 0x11962c358>"
      ]
     },
     "execution_count": 399,
     "metadata": {},
     "output_type": "execute_result"
    },
    {
     "data": {
      "image/png": "[encoded data removed]",
      "text/plain": [
       "<Figure size 432x288 with 1 Axes>"
      ]
     },
     "metadata": {},
     "output_type": "display_data"
    }
   ],
   "source": [
    "df_M.plot.bar(x=\"Age\",y=\"Survivors\")"
   ]
  },
  {
   "cell_type": "code",
   "execution_count": 398,
   "metadata": {},
   "outputs": [
    {
     "data": {
      "text/plain": [
       "<matplotlib.axes._subplots.AxesSubplot at 0x11b6382e8>"
      ]
     },
     "execution_count": 398,
     "metadata": {},
     "output_type": "execute_result"
    },
    {
     "data": {
      "image/png": "[encoded data removed]",
      "text/plain": [
       "<Figure size 432x288 with 1 Axes>"
      ]
     },
     "metadata": {},
     "output_type": "display_data"
    }
   ],
   "source": [
    "df_F.plot.bar(x=\"Age\",y=\"Survivors\")"
   ]
  },
  {
   "cell_type": "code",
   "execution_count": null,
   "metadata": {},
   "outputs": [],
   "source": []
  }
 ],
 "metadata": {
  "kernelspec": {
   "display_name": "Python 3",
   "language": "python",
   "name": "python3"
  },
  "language_info": {
   "codemirror_mode": {
    "name": "ipython",
    "version": 3
   },
   "file_extension": ".py",
   "mimetype": "text/x-python",
   "name": "python",
   "nbconvert_exporter": "python",
   "pygments_lexer": "ipython3",
   "version": "3.6.5"
  }
 },
 "nbformat": 4,
 "nbformat_minor": 2
}
